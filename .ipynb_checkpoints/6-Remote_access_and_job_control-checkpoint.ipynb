{
 "cells": [
  {
   "cell_type": "markdown",
   "metadata": {},
   "source": [
    "# <center>Remote Access and Job Control</center>"
   ]
  },
  {
   "cell_type": "markdown",
   "metadata": {},
   "source": [
    "### <font color=blue>1. [ ssh ]</font>\n",
    "\n",
    "**ssh [-X] username@hostname [command]**\n",
    "\n",
    "It is highly recommended to put your frequently-used ssh command into a shellscript or the alias list and make your log-in process **passwordless**.\n",
    "\n",
    "Follow the steps to make you identifiable by a ssh-able server.\n",
    "\n",
    "1. Is there a folder \"~/.ssh\", in both of the SERVERSIDE and CLIENTSIDE? That's the default place to store your id info.\n",
    "<pre>\n",
    " - Y: go to step 2\n",
    " - N: run \"ssh-keygen\" to generate your private/public keys pair.\n",
    "</pre>\n",
    "\n",
    "2. In the folder ~/.ssh, there should be some possible files:\n",
    "<pre>\n",
    "  - id_rsa:           CLIENTSIDE private key, is your fingerprint\n",
    "  - id_rsa.pub:       CLIENTSIDE public key, info used to identify your fingerprint on the server side\n",
    "  - authorized_keys:  SERVERSIDE is a list of valid public keys on the server side\n",
    "</pre>\n",
    "\n",
    "3. Passwordless login requires:\n",
    "<pre>\n",
    "  - file \"~/.ssh/authorized_keys\" exists on the server side\n",
    "  - your id_rsa.pub content should be in the server-side file \"~/.ssh/authorized_keys\"\n",
    "</pre>\n",
    "\n",
    "4. What to do:\n",
    "<pre>\n",
    "  - on CLIENTSIDE, scp your-id_rsa.pub to the server\n",
    "  - on SERVERSIDE, cat your-id_rsa.pub >> ~/.ssh/authorized_keys\n",
    "  - rm your-id_rsa.pub on the SERVERSIDE\n",
    "</pre>\n",
    "\n"
   ]
  },
  {
   "cell_type": "markdown",
   "metadata": {},
   "source": [
    "### <font color=blue>2. [ scp ]: copy file(s) to a remote server</font>\n",
    "script: 2server\n",
    "\n",
    "**scp [-r] src username@hostname:dst**\n",
    "\n",
    "\n",
    "scritp: fromServer\n",
    "\n",
    "**scp [-r] username@hostname:src dst**\n",
    "\n",
    "\n",
    "Copy a file/files/a folder/folders from src to dst. Parameter -r is required when copying folder/folders."
   ]
  },
  {
   "cell_type": "code",
   "execution_count": 2,
   "metadata": {
    "collapsed": false
   },
   "outputs": [],
   "source": [
    "%%bash\n",
    "### 2lightningSMP\n",
    "# scp -r $* hailins@lightningsmp.its.iastate.edu:/home/hailins/hailins/\n",
    "\n",
    "### fromLightningSMP\n",
    "# scp -r hailins@lightningsmp.its.iastate.edu:/home/hailins/hailins/$* ~/"
   ]
  },
  {
   "cell_type": "markdown",
   "metadata": {},
   "source": [
    "### <font color=blue>3. [ ps ]: process status</font>\n",
    "Shows the processes launched by the current user."
   ]
  },
  {
   "cell_type": "code",
   "execution_count": 3,
   "metadata": {
    "collapsed": false
   },
   "outputs": [
    {
     "name": "stdout",
     "output_type": "stream",
     "text": [
      "  PID TTY           TIME CMD\n",
      "26433 ttys000    0:00.13 -bash\n",
      " 1107 ttys001    0:00.14 -bash\n",
      "  899 ttys002    0:00.01 -bash\n",
      " 1225 ttys003    0:00.05 -bash\n",
      "31075 ttys004    0:00.01 -bash\n",
      "48622 ttys005    0:00.02 -bash\n",
      "48694 ttys005    0:04.68 /Library/Frameworks/Python.framework/Versions/2.7/Resources/Python.app/Contents/MacOS/Python /usr/local/bin/ipython notebook\n",
      "48702 ttys005    0:00.48 /Library/Frameworks/Python.framework/Versions/2.7/Resources/Python.app/Contents/MacOS/Python -c from IPython.kernel.zmq.kernelapp import main; main() -f /Users/cbkmephisto/.ipython/profile_default/security/kernel-4dac76c6-d266-40bf-a57f-146c7762b7dc.json --IPKernelApp.parent_appname='ipython-notebook' --profile-dir /Users/cbkmephisto/.ipython/profile_default --parent=1\n",
      "48704 ttys005    0:00.48 /Library/Frameworks/Python.framework/Versions/2.7/Resources/Python.app/Contents/MacOS/Python -c from IPython.kernel.zmq.kernelapp import main; main() -f /Users/cbkmephisto/.ipython/profile_default/security/kernel-67a4617f-8083-4dff-9d69-1fb2adb2164e.json --IPKernelApp.parent_appname='ipython-notebook' --profile-dir /Users/cbkmephisto/.ipython/profile_default --parent=1\n",
      "48743 ttys005    0:00.47 /Library/Frameworks/Python.framework/Versions/2.7/Resources/Python.app/Contents/MacOS/Python -c from IPython.kernel.zmq.kernelapp import main; main() -f /Users/cbkmephisto/.ipython/profile_default/security/kernel-7f1ee563-11d6-45df-95e3-e646012c7a15.json --IPKernelApp.parent_appname='ipython-notebook' --profile-dir /Users/cbkmephisto/.ipython/profile_default --parent=1\n",
      "48750 ttys005    0:00.46 /Library/Frameworks/Python.framework/Versions/2.7/Resources/Python.app/Contents/MacOS/Python -c from IPython.kernel.zmq.kernelapp import main; main() -f /Users/cbkmephisto/.ipython/profile_default/security/kernel-1728525b-386a-4b80-8a4f-e8aae96f2992.json --IPKernelApp.parent_appname='ipython-notebook' --profile-dir /Users/cbkmephisto/.ipython/profile_default --parent=1\n",
      "48754 ttys005    0:00.47 /Library/Frameworks/Python.framework/Versions/2.7/Resources/Python.app/Contents/MacOS/Python -c from IPython.kernel.zmq.kernelapp import main; main() -f /Users/cbkmephisto/.ipython/profile_default/security/kernel-6a51c24e-bae4-4250-98f5-9610ad44c8a6.json --IPKernelApp.parent_appname='ipython-notebook' --profile-dir /Users/cbkmephisto/.ipython/profile_default --parent=1\n",
      "48840 ttys005    0:00.45 /Library/Frameworks/Python.framework/Versions/2.7/Resources/Python.app/Contents/MacOS/Python -c from IPython.kernel.zmq.kernelapp import main; main() -f /Users/cbkmephisto/.ipython/profile_default/security/kernel-b41f6f69-2846-41ff-a725-bee3801a0a10.json --IPKernelApp.parent_appname='ipython-notebook' --profile-dir /Users/cbkmephisto/.ipython/profile_default --parent=1\n",
      "49052 ttys005    0:00.42 /Library/Frameworks/Python.framework/Versions/2.7/Resources/Python.app/Contents/MacOS/Python -c from IPython.kernel.zmq.kernelapp import main; main() -f /Users/cbkmephisto/.ipython/profile_default/security/kernel-c874640e-70e1-44f8-8795-5b87a3a6aff4.json --IPKernelApp.parent_appname='ipython-notebook' --profile-dir /Users/cbkmephisto/.ipython/profile_default --parent=1\n",
      "49322 ttys005    0:00.00 bash\n",
      "48786 ttys006    0:00.06 -bash\n",
      "49284 ttys007    0:00.01 -bash\n",
      "34181 ttys008    0:00.14 -bash\n",
      "80166 ttys009    0:00.02 -bash\n"
     ]
    }
   ],
   "source": [
    "%%bash\n",
    "ps"
   ]
  },
  {
   "cell_type": "markdown",
   "metadata": {},
   "source": [
    "### <font color=blue>4. [ top ]: display and update sorted information about processes</font>\n",
    "Taking arguments to arrange/sort the contents.\n",
    "\n",
    "Press 'q' to quit top."
   ]
  },
  {
   "cell_type": "markdown",
   "metadata": {},
   "source": [
    "### <font color=blue>5. [ kill ]: terminate or signal a process</font>\n",
    "**kill PID**\n",
    "\n",
    "**killall CMD**"
   ]
  },
  {
   "cell_type": "markdown",
   "metadata": {},
   "source": [
    "### <font color=blue>6. [ Ctrl-z ], [ bg ], [ jobs ], [ fg ] and [ & ]</font>\n",
    "After launching a command, it will run at the **foreground**, which keeps occupying your terminal.\n",
    "\n",
    "**[ Ctrl-z ]**\n",
    "\n",
    "To hang-up a running program, so that you can type other commands.\n",
    "\n",
    "**[ bg ]**\n",
    "\n",
    "To put a hang-upped program to the **background** to keep it running.\n",
    "\n",
    "**[ jobs ]**\n",
    "\n",
    "To list all the hang-upped and backgrounded commands/programs.\n",
    "\n",
    "**[ fg ]**\n",
    "\n",
    "To put a hang-upped / backgrounded program to the foreground to resume running and occupying your terminal again.\n",
    "\n",
    "**[ & ]**\n",
    "\n",
    "Launch a command/program directly to the background by appending '&' to the end [or before redirecting] of the command line.\n"
   ]
  },
  {
   "cell_type": "markdown",
   "metadata": {},
   "source": [
    "### <font color=blue>7. [ nohup ]: invoke a utility immune to hangups</font>###\n",
    "\n",
    "**nohup CMD [&]**\n",
    "\n",
    "nohup with '&' will keep your job running, even your terminal that lauches the command was closed.\n",
    "\n",
    "It is useful to run jobs on remote servers with nohup and '&', if\n",
    " - unstable internet connection\n",
    " - running long-time jobs\n",
    " \n",
    " - screen\n",
    " - tmux"
   ]
  },
  {
   "cell_type": "code",
   "execution_count": 5,
   "metadata": {
    "collapsed": false
   },
   "outputs": [],
   "source": [
    "%%bash\n",
    "### running asreml\n",
    "\n",
    "# nohup asreml.sh input.as >log 2>err & "
   ]
  },
  {
   "cell_type": "markdown",
   "metadata": {},
   "source": [
    "### 8. Summary\n",
    "    - ssh, scp\n",
    "    - ps, top, kill\n",
    "    - Ctrl-z, bg, jobs, fg\n",
    "    - nohup &"
   ]
  }
 ],
 "metadata": {
  "kernelspec": {
   "display_name": "Python 3",
   "language": "python",
   "name": "python3"
  },
  "language_info": {
   "codemirror_mode": {
    "name": "ipython",
    "version": 3
   },
   "file_extension": ".py",
   "mimetype": "text/x-python",
   "name": "python",
   "nbconvert_exporter": "python",
   "pygments_lexer": "ipython3",
   "version": "3.5.2"
  }
 },
 "nbformat": 4,
 "nbformat_minor": 0
}
