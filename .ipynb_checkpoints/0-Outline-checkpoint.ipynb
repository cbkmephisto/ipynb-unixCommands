{
 "cells": [
  {
   "cell_type": "markdown",
   "metadata": {},
   "source": [
    "\n",
    "# <center><font color=blue>Using UNIX Commands</font></center>\n",
    "### <center>Hailin Su, starting from July 2014</center>\n"
   ]
  },
  {
   "cell_type": "markdown",
   "metadata": {},
   "source": [
    "**Basics**"
   ]
  },
  {
   "cell_type": "markdown",
   "metadata": {},
   "source": [
    "- [20140702] [**TERMINAL AND SHELL:** echo # date man ; history](1-Terminal_and_Shell.ipynb)"
   ]
  },
  {
   "cell_type": "markdown",
   "metadata": {},
   "source": [
    "- [20140702] [**NAVIGATION:** pwd cd ls wildcards](2-Navigation.ipynb)"
   ]
  },
  {
   "cell_type": "markdown",
   "metadata": {},
   "source": [
    "- [20140702] [**LOOKING AROUND:** cat head tail less wc](3-Looking_around.ipynb)"
   ]
  },
  {
   "cell_type": "markdown",
   "metadata": {},
   "source": [
    "- [20140813] [**MANIPULATING FILES:** touch cp mv rm ln mkdir rmdir find](4-Manipulating_files.ipynb)"
   ]
  },
  {
   "cell_type": "markdown",
   "metadata": {},
   "source": [
    "- [20140813] [**I/O REDIRECTION:** stdin stdout stderr null redirect pipe ``](5-IORedirection.ipynb)"
   ]
  },
  {
   "cell_type": "markdown",
   "metadata": {},
   "source": [
    "- [20150114] [**REMOTE ACCESS AND JOB CONTROL:** ssh scp ps top kill bg fg nohup](6-Remote_access_and_job_control.ipynb)"
   ]
  },
  {
   "cell_type": "markdown",
   "metadata": {},
   "source": [
    "- [**PERMISSIONS:** chmod chown su sudo visudo tee](7-Permissions.ipynb)"
   ]
  },
  {
   "cell_type": "markdown",
   "metadata": {},
   "source": [
    " "
   ]
  },
  {
   "cell_type": "markdown",
   "metadata": {},
   "source": [
    "**Powerful UNIX built-in commands**"
   ]
  },
  {
   "cell_type": "markdown",
   "metadata": {},
   "source": [
    "- X [**MAKING EXTRACTIONS:** grep awk sed sort uniq](6-Making_extractions.ipynb)"
   ]
  },
  {
   "cell_type": "markdown",
   "metadata": {},
   "source": [
    "- [**SPLITING AND MERGING:** cut paste join seq](7-Spliting_and_merging.ipynb)"
   ]
  },
  {
   "cell_type": "markdown",
   "metadata": {},
   "source": [
    " "
   ]
  },
  {
   "cell_type": "markdown",
   "metadata": {},
   "source": [
    "**Shell programming**"
   ]
  },
  {
   "cell_type": "markdown",
   "metadata": {},
   "source": [
    "- command line arguments\n",
    "- variables\n",
    "- conditional statements\n",
    "- loop\n",
    "- calculation with bash"
   ]
  }
 ],
 "metadata": {
  "kernelspec": {
   "display_name": "Python 3",
   "language": "python",
   "name": "python3"
  },
  "language_info": {
   "codemirror_mode": {
    "name": "ipython",
    "version": 3
   },
   "file_extension": ".py",
   "mimetype": "text/x-python",
   "name": "python",
   "nbconvert_exporter": "python",
   "pygments_lexer": "ipython3",
   "version": "3.5.2"
  }
 },
 "nbformat": 4,
 "nbformat_minor": 0
}
