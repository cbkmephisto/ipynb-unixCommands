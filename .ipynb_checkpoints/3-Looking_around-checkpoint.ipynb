{
 "cells": [
  {
   "cell_type": "markdown",
   "metadata": {},
   "source": [
    "# <center>Looking around</center>"
   ]
  },
  {
   "cell_type": "markdown",
   "metadata": {},
   "source": [
    "### <font color=blue>1. [ cat ]: print out file content</font>"
   ]
  },
  {
   "cell_type": "code",
   "execution_count": 1,
   "metadata": {
    "collapsed": false
   },
   "outputs": [
    {
     "name": "stdout",
     "output_type": "stream",
     "text": [
      "{\n",
      " \"metadata\": {\n",
      "  \"celltoolbar\": \"Slideshow\",\n",
      "  \"name\": \"\",\n",
      "  \"signature\": \"sha256:03a9b00f25e11f32ba122353d35806a1a0989b9d2a3a9b0d25d030baf3859374\"\n",
      " },\n",
      " \"nbformat\": 3,\n",
      " \"nbformat_minor\": 0,\n",
      " \"worksheets\": [\n",
      "  {\n",
      "   \"cells\": [\n",
      "    {\n",
      "     \"cell_type\": \"markdown\",\n",
      "     \"metadata\": {},\n",
      "     \"source\": [\n",
      "      \"\\n\",\n",
      "      \"# <center><font color=blue>Using UNIX Commands</font></center>\\n\",\n",
      "      \"### <center>Hailin Su, July 2014</center>\\n\"\n",
      "     ]\n",
      "    },\n",
      "    {\n",
      "     \"cell_type\": \"markdown\",\n",
      "     \"metadata\": {},\n",
      "     \"source\": [\n",
      "      \"**Basics**\"\n",
      "     ]\n",
      "    },\n",
      "    {\n",
      "     \"cell_type\": \"markdown\",\n",
      "     \"metadata\": {},\n",
      "     \"source\": [\n",
      "      \"- [**TERMINAL AND SHELL:** echo # date man ;](1-Terminal_and_Shell.ipynb)\"\n",
      "     ]\n",
      "    },\n",
      "    {\n",
      "     \"cell_type\": \"markdown\",\n",
      "     \"metadata\": {},\n",
      "     \"source\": [\n",
      "      \"- [**NAVIGATION:** pwd cd ls](2-Navigation.ipynb)\"\n",
      "     ]\n",
      "    },\n",
      "    {\n",
      "     \"cell_type\": \"markdown\",\n",
      "     \"metadata\": {},\n",
      "     \"source\": [\n",
      "      \"- [**LOOKING AROUND:** cat head tail less](3-Looking_around.ipynb)\"\n",
      "     ]\n",
      "    },\n",
      "    {\n",
      "     \"cell_type\": \"markdown\",\n",
      "     \"metadata\": {},\n",
      "     \"source\": [\n",
      "      \"- [**MANIPULATING FILES:** cp mv rm ln](4-Manipulating_files.ipynb)\"\n",
      "     ]\n",
      "    },\n",
      "    {\n",
      "     \"cell_type\": \"markdown\",\n",
      "     \"metadata\": {},\n",
      "     \"source\": [\n",
      "      \"- [**I/O REDIRECTION:** redirect pipe stdout stderr null](4-IO.ipynb)\"\n",
      "     ]\n",
      "    },\n",
      "    {\n",
      "     \"cell_type\": \"markdown\",\n",
      "     \"metadata\": {},\n",
      "     \"source\": [\n",
      "      \"- [**SHELL SCRIPTS**](5-Shell_scripts.ipynb)\"\n",
      "     ]\n",
      "    },\n",
      "    {\n",
      "     \"cell_type\": \"markdown\",\n",
      "     \"metadata\": {},\n",
      "     \"source\": [\n",
      "      \" \"\n",
      "     ]\n",
      "    },\n",
      "    {\n",
      "     \"cell_type\": \"markdown\",\n",
      "     \"metadata\": {},\n",
      "     \"source\": [\n",
      "      \"**Powerful UNIX built-in commands**\"\n",
      "     ]\n",
      "    },\n",
      "    {\n",
      "     \"cell_type\": \"markdown\",\n",
      "     \"metadata\": {},\n",
      "     \"source\": [\n",
      "      \"- [**MAKING EXTRACTIONS:** grep awk sed sort](6-Making_extractions.ipynb)\"\n",
      "     ]\n",
      "    },\n",
      "    {\n",
      "     \"cell_type\": \"markdown\",\n",
      "     \"metadata\": {},\n",
      "     \"source\": [\n",
      "      \"- [**SPLITING AND MERGING:** cut paste join](7-Spliting_and_merging.ipynb)\"\n",
      "     ]\n",
      "    },\n",
      "    {\n",
      "     \"cell_type\": \"markdown\",\n",
      "     \"metadata\": {},\n",
      "     \"source\": [\n",
      "      \"- [**JOB CONTROL:** ps kill bg fg](8-Remote_job_techs.ipynb)\"\n",
      "     ]\n",
      "    },\n",
      "    {\n",
      "     \"cell_type\": \"markdown\",\n",
      "     \"metadata\": {},\n",
      "     \"source\": [\n",
      "      \"shell scripts\\n\",\n",
      "      \"shell programming\\n\",\n",
      "      \"    command line arguments\\n\",\n",
      "      \"    var\\n\",\n",
      "      \"    loop\"\n",
      "     ]\n",
      "    },\n",
      "    {\n",
      "     \"cell_type\": \"code\",\n",
      "     \"collapsed\": false,\n",
      "     \"input\": [],\n",
      "     \"language\": \"python\",\n",
      "     \"metadata\": {},\n",
      "     \"outputs\": [],\n",
      "     \"prompt_number\": 0\n",
      "    }\n",
      "   ],\n",
      "   \"metadata\": {}\n",
      "  }\n",
      " ]\n",
      "}"
     ]
    }
   ],
   "source": [
    "%%bash\n",
    "cat 0-Outline.ipynb"
   ]
  },
  {
   "cell_type": "code",
   "execution_count": 2,
   "metadata": {
    "collapsed": false
   },
   "outputs": [
    {
     "name": "stdout",
     "output_type": "stream",
     "text": [
      "     1\t{\n",
      "     2\t \"metadata\": {\n",
      "     3\t  \"celltoolbar\": \"Slideshow\",\n",
      "     4\t  \"name\": \"\",\n",
      "     5\t  \"signature\": \"sha256:03a9b00f25e11f32ba122353d35806a1a0989b9d2a3a9b0d25d030baf3859374\"\n",
      "     6\t },\n",
      "     7\t \"nbformat\": 3,\n",
      "     8\t \"nbformat_minor\": 0,\n",
      "     9\t \"worksheets\": [\n",
      "    10\t  {\n",
      "    11\t   \"cells\": [\n",
      "    12\t    {\n",
      "    13\t     \"cell_type\": \"markdown\",\n",
      "    14\t     \"metadata\": {},\n",
      "    15\t     \"source\": [\n",
      "    16\t      \"\\n\",\n",
      "    17\t      \"# <center><font color=blue>Using UNIX Commands</font></center>\\n\",\n",
      "    18\t      \"### <center>Hailin Su, July 2014</center>\\n\"\n",
      "    19\t     ]\n",
      "    20\t    },\n",
      "    21\t    {\n",
      "    22\t     \"cell_type\": \"markdown\",\n",
      "    23\t     \"metadata\": {},\n",
      "    24\t     \"source\": [\n",
      "    25\t      \"**Basics**\"\n",
      "    26\t     ]\n",
      "    27\t    },\n",
      "    28\t    {\n",
      "    29\t     \"cell_type\": \"markdown\",\n",
      "    30\t     \"metadata\": {},\n",
      "    31\t     \"source\": [\n",
      "    32\t      \"- [**TERMINAL AND SHELL:** echo # date man ;](1-Terminal_and_Shell.ipynb)\"\n",
      "    33\t     ]\n",
      "    34\t    },\n",
      "    35\t    {\n",
      "    36\t     \"cell_type\": \"markdown\",\n",
      "    37\t     \"metadata\": {},\n",
      "    38\t     \"source\": [\n",
      "    39\t      \"- [**NAVIGATION:** pwd cd ls](2-Navigation.ipynb)\"\n",
      "    40\t     ]\n",
      "    41\t    },\n",
      "    42\t    {\n",
      "    43\t     \"cell_type\": \"markdown\",\n",
      "    44\t     \"metadata\": {},\n",
      "    45\t     \"source\": [\n",
      "    46\t      \"- [**LOOKING AROUND:** cat head tail less](3-Looking_around.ipynb)\"\n",
      "    47\t     ]\n",
      "    48\t    },\n",
      "    49\t    {\n",
      "    50\t     \"cell_type\": \"markdown\",\n",
      "    51\t     \"metadata\": {},\n",
      "    52\t     \"source\": [\n",
      "    53\t      \"- [**MANIPULATING FILES:** cp mv rm ln](4-Manipulating_files.ipynb)\"\n",
      "    54\t     ]\n",
      "    55\t    },\n",
      "    56\t    {\n",
      "    57\t     \"cell_type\": \"markdown\",\n",
      "    58\t     \"metadata\": {},\n",
      "    59\t     \"source\": [\n",
      "    60\t      \"- [**I/O REDIRECTION:** redirect pipe stdout stderr null](4-IO.ipynb)\"\n",
      "    61\t     ]\n",
      "    62\t    },\n",
      "    63\t    {\n",
      "    64\t     \"cell_type\": \"markdown\",\n",
      "    65\t     \"metadata\": {},\n",
      "    66\t     \"source\": [\n",
      "    67\t      \"- [**SHELL SCRIPTS**](5-Shell_scripts.ipynb)\"\n",
      "    68\t     ]\n",
      "    69\t    },\n",
      "    70\t    {\n",
      "    71\t     \"cell_type\": \"markdown\",\n",
      "    72\t     \"metadata\": {},\n",
      "    73\t     \"source\": [\n",
      "    74\t      \" \"\n",
      "    75\t     ]\n",
      "    76\t    },\n",
      "    77\t    {\n",
      "    78\t     \"cell_type\": \"markdown\",\n",
      "    79\t     \"metadata\": {},\n",
      "    80\t     \"source\": [\n",
      "    81\t      \"**Powerful UNIX built-in commands**\"\n",
      "    82\t     ]\n",
      "    83\t    },\n",
      "    84\t    {\n",
      "    85\t     \"cell_type\": \"markdown\",\n",
      "    86\t     \"metadata\": {},\n",
      "    87\t     \"source\": [\n",
      "    88\t      \"- [**MAKING EXTRACTIONS:** grep awk sed sort](6-Making_extractions.ipynb)\"\n",
      "    89\t     ]\n",
      "    90\t    },\n",
      "    91\t    {\n",
      "    92\t     \"cell_type\": \"markdown\",\n",
      "    93\t     \"metadata\": {},\n",
      "    94\t     \"source\": [\n",
      "    95\t      \"- [**SPLITING AND MERGING:** cut paste join](7-Spliting_and_merging.ipynb)\"\n",
      "    96\t     ]\n",
      "    97\t    },\n",
      "    98\t    {\n",
      "    99\t     \"cell_type\": \"markdown\",\n",
      "   100\t     \"metadata\": {},\n",
      "   101\t     \"source\": [\n",
      "   102\t      \"- [**JOB CONTROL:** ps kill bg fg](8-Remote_job_techs.ipynb)\"\n",
      "   103\t     ]\n",
      "   104\t    },\n",
      "   105\t    {\n",
      "   106\t     \"cell_type\": \"markdown\",\n",
      "   107\t     \"metadata\": {},\n",
      "   108\t     \"source\": [\n",
      "   109\t      \"shell scripts\\n\",\n",
      "   110\t      \"shell programming\\n\",\n",
      "   111\t      \"    command line arguments\\n\",\n",
      "   112\t      \"    var\\n\",\n",
      "   113\t      \"    loop\"\n",
      "   114\t     ]\n",
      "   115\t    },\n",
      "   116\t    {\n",
      "   117\t     \"cell_type\": \"code\",\n",
      "   118\t     \"collapsed\": false,\n",
      "   119\t     \"input\": [],\n",
      "   120\t     \"language\": \"python\",\n",
      "   121\t     \"metadata\": {},\n",
      "   122\t     \"outputs\": [],\n",
      "   123\t     \"prompt_number\": 0\n",
      "   124\t    }\n",
      "   125\t   ],\n",
      "   126\t   \"metadata\": {}\n",
      "   127\t  }\n",
      "   128\t ]\n",
      "   129\t}"
     ]
    }
   ],
   "source": [
    "%%bash\n",
    "cat -n 0-Outline.ipynb"
   ]
  },
  {
   "cell_type": "markdown",
   "metadata": {},
   "source": [
    "### <font color=blue>2. [ head ]: print out the first 10 lines of file content</font>"
   ]
  },
  {
   "cell_type": "code",
   "execution_count": 3,
   "metadata": {
    "collapsed": false
   },
   "outputs": [
    {
     "name": "stdout",
     "output_type": "stream",
     "text": [
      "{\n",
      " \"metadata\": {\n",
      "  \"celltoolbar\": \"Slideshow\",\n",
      "  \"name\": \"\",\n",
      "  \"signature\": \"sha256:03a9b00f25e11f32ba122353d35806a1a0989b9d2a3a9b0d25d030baf3859374\"\n",
      " },\n",
      " \"nbformat\": 3,\n",
      " \"nbformat_minor\": 0,\n",
      " \"worksheets\": [\n",
      "  {\n"
     ]
    }
   ],
   "source": [
    "%%bash\n",
    "head 0-Outline.ipynb"
   ]
  },
  {
   "cell_type": "code",
   "execution_count": 2,
   "metadata": {
    "collapsed": false
   },
   "outputs": [
    {
     "name": "stdout",
     "output_type": "stream",
     "text": [
      "{\n",
      " \"metadata\": {\n"
     ]
    }
   ],
   "source": [
    "%%bash\n",
    "head -n2 0-Outline.ipynb\n",
    "# head -n 20\n",
    "# head -20"
   ]
  },
  {
   "cell_type": "markdown",
   "metadata": {},
   "source": [
    "### <font color=blue>3. [ tail ]: print out the last 10 lines of file content</font>\n",
    "Similar to head, but printing the last lines."
   ]
  },
  {
   "cell_type": "markdown",
   "metadata": {},
   "source": [
    "### <font color=blue>4. [ less ]: text file viewer (read-only)</font>\n",
    "<pre>\n",
    "k, j                      next line, previous line\n",
    "up-arrow, down-arrow      \n",
    "f, Space                  page down\n",
    "b                         page up\n",
    "/                         search forward\n",
    "?                         search backward\n",
    "g                         to top of the file\n",
    "G                         to end of the file\n",
    "q                         quit</pre>"
   ]
  },
  {
   "cell_type": "code",
   "execution_count": 6,
   "metadata": {
    "collapsed": false
   },
   "outputs": [
    {
     "name": "stdout",
     "output_type": "stream",
     "text": [
      "{\n",
      " \"metadata\": {\n",
      "  \"celltoolbar\": \"Slideshow\",\n",
      "  \"name\": \"\",\n",
      "  \"signature\": \"sha256:03a9b00f25e11f32ba122353d35806a1a0989b9d2a3a9b0d25d030baf3859374\"\n",
      " },\n",
      " \"nbformat\": 3,\n",
      " \"nbformat_minor\": 0,\n",
      " \"worksheets\": [\n",
      "  {\n",
      "   \"cells\": [\n",
      "    {\n",
      "     \"cell_type\": \"markdown\",\n",
      "     \"metadata\": {},\n",
      "     \"source\": [\n",
      "      \"\\n\",\n",
      "      \"# <center><font color=blue>Using UNIX Commands</font></center>\\n\",\n",
      "      \"### <center>Hailin Su, July 2014</center>\\n\"\n",
      "     ]\n",
      "    },\n",
      "    {\n",
      "     \"cell_type\": \"markdown\",\n",
      "     \"metadata\": {},\n",
      "     \"source\": [\n",
      "      \"**Basics**\"\n",
      "     ]\n",
      "    },\n",
      "    {\n",
      "     \"cell_type\": \"markdown\",\n",
      "     \"metadata\": {},\n",
      "     \"source\": [\n",
      "      \"- [**TERMINAL AND SHELL:** echo # date man ;](1-Terminal_and_Shell.ipynb)\"\n",
      "     ]\n",
      "    },\n",
      "    {\n",
      "     \"cell_type\": \"markdown\",\n",
      "     \"metadata\": {},\n",
      "     \"source\": [\n",
      "      \"- [**NAVIGATION:** pwd cd ls](2-Navigation.ipynb)\"\n",
      "     ]\n",
      "    },\n",
      "    {\n",
      "     \"cell_type\": \"markdown\",\n",
      "     \"metadata\": {},\n",
      "     \"source\": [\n",
      "      \"- [**LOOKING AROUND:** cat head tail less](3-Looking_around.ipynb)\"\n",
      "     ]\n",
      "    },\n",
      "    {\n",
      "     \"cell_type\": \"markdown\",\n",
      "     \"metadata\": {},\n",
      "     \"source\": [\n",
      "      \"- [**MANIPULATING FILES:** cp mv rm ln](4-Manipulating_files.ipynb)\"\n",
      "     ]\n",
      "    },\n",
      "    {\n",
      "     \"cell_type\": \"markdown\",\n",
      "     \"metadata\": {},\n",
      "     \"source\": [\n",
      "      \"- [**I/O REDIRECTION:** redirect pipe stdout stderr null](4-IO.ipynb)\"\n",
      "     ]\n",
      "    },\n",
      "    {\n",
      "     \"cell_type\": \"markdown\",\n",
      "     \"metadata\": {},\n",
      "     \"source\": [\n",
      "      \"- [**SHELL SCRIPTS**](5-Shell_scripts.ipynb)\"\n",
      "     ]\n",
      "    },\n",
      "    {\n",
      "     \"cell_type\": \"markdown\",\n",
      "     \"metadata\": {},\n",
      "     \"source\": [\n",
      "      \" \"\n",
      "     ]\n",
      "    },\n",
      "    {\n",
      "     \"cell_type\": \"markdown\",\n",
      "     \"metadata\": {},\n",
      "     \"source\": [\n",
      "      \"**Powerful UNIX built-in commands**\"\n",
      "     ]\n",
      "    },\n",
      "    {\n",
      "     \"cell_type\": \"markdown\",\n",
      "     \"metadata\": {},\n",
      "     \"source\": [\n",
      "      \"- [**MAKING EXTRACTIONS:** grep awk sed sort](6-Making_extractions.ipynb)\"\n",
      "     ]\n",
      "    },\n",
      "    {\n",
      "     \"cell_type\": \"markdown\",\n",
      "     \"metadata\": {},\n",
      "     \"source\": [\n",
      "      \"- [**SPLITING AND MERGING:** cut paste join](7-Spliting_and_merging.ipynb)\"\n",
      "     ]\n",
      "    },\n",
      "    {\n",
      "     \"cell_type\": \"markdown\",\n",
      "     \"metadata\": {},\n",
      "     \"source\": [\n",
      "      \"- [**JOB CONTROL:** ps kill bg fg](8-Remote_job_techs.ipynb)\"\n",
      "     ]\n",
      "    },\n",
      "    {\n",
      "     \"cell_type\": \"markdown\",\n",
      "     \"metadata\": {},\n",
      "     \"source\": [\n",
      "      \"shell scripts\\n\",\n",
      "      \"shell programming\\n\",\n",
      "      \"    command line arguments\\n\",\n",
      "      \"    var\\n\",\n",
      "      \"    loop\"\n",
      "     ]\n",
      "    },\n",
      "    {\n",
      "     \"cell_type\": \"code\",\n",
      "     \"collapsed\": false,\n",
      "     \"input\": [],\n",
      "     \"language\": \"python\",\n",
      "     \"metadata\": {},\n",
      "     \"outputs\": [],\n",
      "     \"prompt_number\": 0\n",
      "    }\n",
      "   ],\n",
      "   \"metadata\": {}\n",
      "  }\n",
      " ]\n",
      "}"
     ]
    }
   ],
   "source": [
    "%%bash\n",
    "less 0-Outline.ipynb"
   ]
  },
  {
   "cell_type": "markdown",
   "metadata": {},
   "source": [
    "#### If you're going to modify a text file rather than just \"viewing\" it, try\n",
    "- nano\n",
    "- vi / vim\n",
    "- emacs"
   ]
  },
  {
   "cell_type": "markdown",
   "metadata": {},
   "source": [
    "### <font color=blue>6. [ wc ]: word count</font>"
   ]
  },
  {
   "cell_type": "code",
   "execution_count": 3,
   "metadata": {
    "collapsed": false
   },
   "outputs": [
    {
     "name": "stdout",
     "output_type": "stream",
     "text": [
      "     132     270    2722 0-Outline.ipynb\n"
     ]
    }
   ],
   "source": [
    "%%bash\n",
    "wc 0-Outline.ipynb"
   ]
  },
  {
   "cell_type": "code",
   "execution_count": 2,
   "metadata": {
    "collapsed": false
   },
   "outputs": [
    {
     "name": "stdout",
     "output_type": "stream",
     "text": [
      "     132 0-Outline.ipynb\n"
     ]
    }
   ],
   "source": [
    "%%bash\n",
    "wc -l 0-Outline.ipynb"
   ]
  },
  {
   "cell_type": "markdown",
   "metadata": {},
   "source": [
    "### 7. Summary\n",
    "    - cat\n",
    "    - head\n",
    "    - tail\n",
    "    - less\n",
    "    - wc"
   ]
  },
  {
   "cell_type": "code",
   "execution_count": null,
   "metadata": {
    "collapsed": false
   },
   "outputs": [],
   "source": []
  }
 ],
 "metadata": {
  "kernelspec": {
   "display_name": "Python 3",
   "language": "python",
   "name": "python3"
  },
  "language_info": {
   "codemirror_mode": {
    "name": "ipython",
    "version": 3
   },
   "file_extension": ".py",
   "mimetype": "text/x-python",
   "name": "python",
   "nbconvert_exporter": "python",
   "pygments_lexer": "ipython3",
   "version": "3.5.2"
  }
 },
 "nbformat": 4,
 "nbformat_minor": 0
}
