{
 "cells": [
  {
   "cell_type": "markdown",
   "metadata": {},
   "source": [
    "# <center>Input/Output Redirection</center>"
   ]
  },
  {
   "cell_type": "markdown",
   "metadata": {},
   "source": [
    "There're 3 special files, /dev/stdin, /dev/stdout and /dev/stderr. They represent their relative facilities/devices."
   ]
  },
  {
   "cell_type": "markdown",
   "metadata": {},
   "source": [
    "### <font color=blue>1. /dev/stdin and redirecting it from file</font>"
   ]
  },
  {
   "cell_type": "markdown",
   "metadata": {},
   "source": [
    "> Many commands can accept input from a facility called **standard input**. By default, standard input gets its contents from the keyboard.\n",
    "\n",
    "> To **redirect standard input from a file** instead of the keyboard, the \"<\" character is used.\n",
    "\n",
    "> REFERENCE: http://linuxcommand.org/lc3_lts0070.php"
   ]
  },
  {
   "cell_type": "markdown",
   "metadata": {},
   "source": [
    "**They're doing the same thing (1):**\n",
    "- read from stdin and print\n",
    "\n",
    "    $ cat\n",
    "    \n",
    "    $ cat /dev/stdin\n",
    "\n",
    "\n",
    "- read from stdin that is redirected from a file and print\n",
    "\n",
    "    $ cat < /dev/stdin\n",
    "\n",
    "\n",
    "**They're doing the same thing (2):**\n",
    "- read from a file and print\n",
    "\n",
    "    $ cat fileName\n",
    "\n",
    "\n",
    "- read from stdin that is redirected from a file and print\n",
    "\n",
    "    $ cat < fileName"
   ]
  },
  {
   "cell_type": "markdown",
   "metadata": {},
   "source": [
    "### <font color=blue>2. /dev/stdout, /dev/stderr and redirecting them to files</font> "
   ]
  },
  {
   "cell_type": "markdown",
   "metadata": {},
   "source": [
    "> Most command line programs that display their results do so by sending their results to a facility called **standard output**. By default, standard output directs its contents to the display."
   ]
  },
  {
   "cell_type": "markdown",
   "metadata": {},
   "source": [
    "Programes could also display error messages by sending them to **standard error**. Similar to stdout, the standard error directs the contents to the display by default. The statement ' cerr << \"error message\" << endl; ' in C++ simply does this job.\n",
    "\n",
    "The major difference of stdout and stderr is that they come from different \"channels\"."
   ]
  },
  {
   "cell_type": "markdown",
   "metadata": {},
   "source": [
    "> To **redirect standard output to a file**, the \">\" character is used. If you want the new results to be appended to an existed file instead, use \">>\".\n",
    "\n",
    "Actually \">\" is the same as \"1>\".\n",
    "\n",
    "Similar thing applied to the stderr. To **redirect standard error to a file**, use \"2>\" or \"2>>\"."
   ]
  },
  {
   "cell_type": "code",
   "execution_count": 8,
   "metadata": {
    "collapsed": false
   },
   "outputs": [],
   "source": [
    "%%bash\n",
    "### override if fileList exists\n",
    "ls > fileList"
   ]
  },
  {
   "cell_type": "code",
   "execution_count": 9,
   "metadata": {
    "collapsed": false
   },
   "outputs": [
    {
     "name": "stdout",
     "output_type": "stream",
     "text": [
      "0-Outline.ipynb\n",
      "1-Terminal_and_Shell.ipynb\n",
      "2-Navigation.ipynb\n",
      "3-Looking_around.ipynb\n",
      "4-Manipulating_files.ipynb\n",
      "5-IORedirection.ipynb\n",
      "6-Spliting_and_merging.ipynb\n",
      "7-Remote_job_techs.ipynb\n",
      "fileList\n",
      "file_permissions.png\n",
      "keyboard.svg.png\n"
     ]
    }
   ],
   "source": [
    "%%bash\n",
    "cat fileList"
   ]
  },
  {
   "cell_type": "code",
   "execution_count": 10,
   "metadata": {
    "collapsed": false
   },
   "outputs": [],
   "source": [
    "%%bash\n",
    "### append to the end of file\n",
    "echo ======================= >> fileList\n",
    "ls -l >> fileList"
   ]
  },
  {
   "cell_type": "code",
   "execution_count": 11,
   "metadata": {
    "collapsed": false
   },
   "outputs": [
    {
     "name": "stdout",
     "output_type": "stream",
     "text": [
      "0-Outline.ipynb\n",
      "1-Terminal_and_Shell.ipynb\n",
      "2-Navigation.ipynb\n",
      "3-Looking_around.ipynb\n",
      "4-Manipulating_files.ipynb\n",
      "5-IORedirection.ipynb\n",
      "6-Spliting_and_merging.ipynb\n",
      "7-Remote_job_techs.ipynb\n",
      "fileList\n",
      "file_permissions.png\n",
      "keyboard.svg.png\n",
      "=======================\n",
      "total 624\n",
      "-rw-r--r--  1 cbkmephisto  staff    2864 Jul 14 10:41 0-Outline.ipynb\n",
      "-rw-r--r--  1 cbkmephisto  staff   10150 Jul  5 16:02 1-Terminal_and_Shell.ipynb\n",
      "-rw-r--r--  1 cbkmephisto  staff  104370 Jul  5 16:09 2-Navigation.ipynb\n",
      "-rw-r--r--  1 cbkmephisto  staff   19846 Jul  2 16:00 3-Looking_around.ipynb\n",
      "-rw-r--r--  1 cbkmephisto  staff    5952 Jul 14 10:39 4-Manipulating_files.ipynb\n",
      "-rw-r--r--  1 cbkmephisto  staff   10586 Jul 14 14:35 5-IORedirection.ipynb\n",
      "-rw-r--r--  1 cbkmephisto  staff    1307 Jul  2 10:48 6-Spliting_and_merging.ipynb\n",
      "-rw-r--r--  1 cbkmephisto  staff    1307 Jul  2 10:48 7-Remote_job_techs.ipynb\n",
      "-rw-r--r--  1 cbkmephisto  staff     259 Jul 14 14:36 fileList\n",
      "-rw-r--r--@ 1 cbkmephisto  staff   59092 Jul  2 14:30 file_permissions.png\n",
      "-rw-r--r--@ 1 cbkmephisto  staff   79729 Jul  2 10:42 keyboard.svg.png\n"
     ]
    }
   ],
   "source": [
    "%%bash\n",
    "cat fileList"
   ]
  },
  {
   "cell_type": "code",
   "execution_count": 19,
   "metadata": {
    "collapsed": false
   },
   "outputs": [
    {
     "name": "stdout",
     "output_type": "stream",
     "text": [
      "STDOUT message\n"
     ]
    },
    {
     "name": "stderr",
     "output_type": "stream",
     "text": [
      "STDERR message\n"
     ]
    }
   ],
   "source": [
    "%%bash\n",
    "echo STDOUT message > /dev/stdout\n",
    "echo STDERR message > /dev/stderr"
   ]
  },
  {
   "cell_type": "markdown",
   "metadata": {},
   "source": [
    "### <font color=blue>3. [ /dev/null ]: the channel hidden</font>\n",
    "Anything redirected to this channel will disappear.\n",
    "EXAMPLES for section 1, 2 and 3\n",
    "---------------------\n",
    "- The common way we ran a program with tons of output messages\n",
    "\n",
    "    getdyd -i debv.epd_birth_wt -o ASA_bw_dyd -h 0.42 -c 0.4 -b 0.0 >getdyd.bw.log 2>getdyd.bw.err\n",
    "\n",
    "    getdyd -i debv.epd_birth_wt -o ASA_bw_dyd -h 0.42 -c 0.4 -b 0.0 >/dev/null 2>getdyd.bw.err\n",
    "\n",
    "\n",
    "- The lightningSMP submitting script"
   ]
  },
  {
   "cell_type": "code",
   "execution_count": 1,
   "metadata": {
    "collapsed": false
   },
   "outputs": [],
   "source": [
    "%%bash\n",
    "#!/bin/bash\n",
    "# Instructions for new Lightningsmp Cluster users:\n",
    "#  To use this script:\n",
    "#   1) Save this script as a file named myscript on Lightningsmp.its\n",
    "#   2) On lightningsmp, Issue                   \n",
    "#       qsub myscript    to submit the job \n",
    "#        Use qstat -a to see job status, \n",
    "#         Use qdel jobname to delete one of your jobs\n",
    "#         jobnames are of the form 1234.hpc4smp \n",
    "\n",
    "###########################################\n",
    "# Output goes to file BATCH_OUTPUT.\n",
    "# Error output goes to file BATCH_ERRORS.\n",
    "# If you want the output to go to another file, change BATCH_OUTPUT \n",
    "# or BATCH_ERRORS in the following lines to the full path of that file. \n",
    "\n",
    "#PBS  -o BATCH_OUTPUT \n",
    "#PBS  -e BATCH_ERRORS \n",
    "\n",
    "#yourCommand >log 2>err"
   ]
  },
  {
   "cell_type": "markdown",
   "metadata": {},
   "source": [
    "### <font color=blue>4. [  |  ]: making pipes connecting I/O streams of multiple commands/programs</font>\n",
    "In other words, redirect the stdout of the prior command to the stdin of the latter command.\n",
    "\n",
    "Usage:\n",
    "\n",
    "    firstCommand | secondCommand [ | third ...]"
   ]
  },
  {
   "cell_type": "code",
   "execution_count": 1,
   "metadata": {
    "collapsed": false
   },
   "outputs": [],
   "source": [
    "# from IPython.display import Image\n",
    "# Image(filename='keyboard.svg.png')"
   ]
  },
  {
   "cell_type": "markdown",
   "metadata": {},
   "source": [
    "![](keyboard.svg.png)"
   ]
  },
  {
   "cell_type": "code",
   "execution_count": 8,
   "metadata": {
    "collapsed": false
   },
   "outputs": [],
   "source": [
    "%%bash\n",
    "## shows the top 5 most frequently used commands\n",
    "# history | awk '{print $2}' | sort | uniq -c | sort -nr | head -5\n",
    "\n",
    "## filters output/files with awk, grep, sort, uniq, etc"
   ]
  },
  {
   "cell_type": "markdown",
   "metadata": {},
   "source": [
    "### <font color=blue>5. [ \\`cmd\\`, $(cmd) ]: make output accessable</font>"
   ]
  },
  {
   "cell_type": "code",
   "execution_count": 17,
   "metadata": {
    "collapsed": false
   },
   "outputs": [
    {
     "name": "stdout",
     "output_type": "stream",
     "text": [
      "today is 2014-07-22\n"
     ]
    }
   ],
   "source": [
    "%%bash\n",
    "# concating method\n",
    "echo -n \"today is \"; date +%Y-%m-%d"
   ]
  },
  {
   "cell_type": "code",
   "execution_count": 24,
   "metadata": {
    "collapsed": false
   },
   "outputs": [
    {
     "name": "stdout",
     "output_type": "stream",
     "text": [
      "today is 2014-07-22\n",
      "today is 2014-07-22\n"
     ]
    }
   ],
   "source": [
    "%%bash\n",
    "# evaluating method\n",
    "echo today is `date +%Y-%m-%d`\n",
    "echo today is $(date +%Y-%m-%d)"
   ]
  },
  {
   "cell_type": "code",
   "execution_count": 23,
   "metadata": {
    "collapsed": false
   },
   "outputs": [
    {
     "name": "stdout",
     "output_type": "stream",
     "text": [
      "today is 2014-07-22\n"
     ]
    }
   ],
   "source": [
    "%%bash\n",
    "# evaluating + variable method\n",
    "td=`date +%Y-%m-%d` # same as td=$(date +%Y-%m-%d)\n",
    "echo today is $td"
   ]
  },
  {
   "cell_type": "code",
   "execution_count": 1,
   "metadata": {
    "collapsed": false
   },
   "outputs": [
    {
     "name": "stdout",
     "output_type": "stream",
     "text": [
      "0-Outline.ipynb\n",
      "1-Terminal_and_Shell.ipynb\n",
      "2-Navigation.ipynb\n",
      "3-Looking_around.ipynb\n",
      "4-Manipulating_files.ipynb\n",
      "5-IORedirection.ipynb\n",
      "6-Spliting_and_merging.ipynb\n",
      "7-Remote_job_techs.ipynb\n",
      "README.md\n",
      "a\n",
      "fileList\n",
      "file_permissions.png\n",
      "keyboard.svg.png\n"
     ]
    }
   ],
   "source": [
    "%%bash\n",
    "\n",
    "# backup multiple files\n",
    "# cp * *.bak wont' work\n",
    "\n",
    "for fileName in `ls`\n",
    "do\n",
    "    echo $fileName\n",
    "    # cp $fileName $fileName.bak\n",
    "done"
   ]
  },
  {
   "cell_type": "markdown",
   "metadata": {},
   "source": [
    "### 6. Summary\n",
    "    - /dev/(stdin, stdout, stderr, null)\n",
    "    - pipes |\n",
    "    - `` and $()"
   ]
  }
 ],
 "metadata": {
  "kernelspec": {
   "display_name": "Python 3",
   "language": "python",
   "name": "python3"
  },
  "language_info": {
   "codemirror_mode": {
    "name": "ipython",
    "version": 3
   },
   "file_extension": ".py",
   "mimetype": "text/x-python",
   "name": "python",
   "nbconvert_exporter": "python",
   "pygments_lexer": "ipython3",
   "version": "3.5.2"
  }
 },
 "nbformat": 4,
 "nbformat_minor": 0
}
