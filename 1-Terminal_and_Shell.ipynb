{
 "cells": [
  {
   "cell_type": "markdown",
   "metadata": {},
   "source": [
    "# <center>Terminal and Shell</center>\n",
    "### 1. How to communicate with a computer\n",
    "    - graphical user interfaces (GUIs)\n",
    "    - command line interfaces (CLIs) such as the shell.\n",
    " \n",
    "#### 1.1. What is \"The Shell\"?\n",
    "    - The shell is a program that takes commands from the keyboard and gives them to the operating system to perform.\n",
    "    - On most Linux systems a program called bash (which stands for Bourne Again SHell, an enhanced version of the original Unix shell program, sh, written by Steve Bourne) acts as the shell program. Besides bash, there are other shell programs that can be installed in a Linux system. These include: ksh, tcsh and zsh.\n",
    "\n",
    "#### 1.2. What's a \"Terminal?\"\n",
    "    - It's a program called a terminal emulator. This is a program that opens a window and lets you interact with the shell."
   ]
  },
  {
   "cell_type": "markdown",
   "metadata": {},
   "source": [
    "### 2. Play around with the shell\n",
    "- <font color=blue> **command not found**</font>"
   ]
  },
  {
   "cell_type": "code",
   "execution_count": 6,
   "metadata": {
    "collapsed": false,
    "slideshow": {
     "slide_type": "-"
    }
   },
   "outputs": [
    {
     "name": "stderr",
     "output_type": "stream",
     "text": [
      "bash: line 1: hello: command not found\n"
     ]
    }
   ],
   "source": [
    "%%bash\n",
    "hello"
   ]
  },
  {
   "cell_type": "markdown",
   "metadata": {},
   "source": [
    "- <font color=blue> **[ echo ]: echo prints whatever you gave to it. **</font>"
   ]
  },
  {
   "cell_type": "code",
   "execution_count": 7,
   "metadata": {
    "collapsed": false,
    "slideshow": {
     "slide_type": "-"
    }
   },
   "outputs": [
    {
     "name": "stdout",
     "output_type": "stream",
     "text": [
      "\n"
     ]
    }
   ],
   "source": [
    "%%bash\n",
    "echo"
   ]
  },
  {
   "cell_type": "code",
   "execution_count": 8,
   "metadata": {
    "collapsed": false,
    "slideshow": {
     "slide_type": "-"
    }
   },
   "outputs": [
    {
     "name": "stdout",
     "output_type": "stream",
     "text": [
      "hello\n"
     ]
    }
   ],
   "source": [
    "%%bash\n",
    "echo hello"
   ]
  },
  {
   "cell_type": "code",
   "execution_count": 9,
   "metadata": {
    "collapsed": false,
    "slideshow": {
     "slide_type": "-"
    }
   },
   "outputs": [
    {
     "name": "stdout",
     "output_type": "stream",
     "text": [
      "echo prints whatever you gave to it.\n"
     ]
    }
   ],
   "source": [
    "%%bash\n",
    "echo echo prints whatever you gave to it."
   ]
  },
  {
   "cell_type": "code",
   "execution_count": 10,
   "metadata": {
    "collapsed": false,
    "slideshow": {
     "slide_type": "-"
    }
   },
   "outputs": [
    {
     "name": "stdout",
     "output_type": "stream",
     "text": [
      "echo\n",
      "prints\n",
      "whatever\n",
      "you\n",
      "gave\n",
      "to\n",
      "it.\n"
     ]
    }
   ],
   "source": [
    "%%bash\n",
    "echo echo\n",
    "echo prints\n",
    "echo whatever\n",
    "echo you\n",
    "echo gave\n",
    "echo to\n",
    "echo it."
   ]
  },
  {
   "cell_type": "code",
   "execution_count": 11,
   "metadata": {
    "collapsed": false,
    "slideshow": {
     "slide_type": "-"
    }
   },
   "outputs": [],
   "source": [
    "%%bash\n",
    "echo -n"
   ]
  },
  {
   "cell_type": "markdown",
   "metadata": {},
   "source": [
    "- <font color=blue> **[ # ]: comment out <br>\n",
    "[ \\ ]: escape character**\n",
    "</font>"
   ]
  },
  {
   "cell_type": "code",
   "execution_count": 2,
   "metadata": {
    "collapsed": false
   },
   "outputs": [
    {
     "name": "stdout",
     "output_type": "stream",
     "text": [
      "Just show this one.\n"
     ]
    }
   ],
   "source": [
    "%%bash\n",
    "# all the lines\n",
    "#    starts with sharp sign '#'\n",
    "#    will not be executed\n",
    "\n",
    "# echo This message will not be printed\n",
    "echo Just show this one. # But I want to show a sharp here #"
   ]
  },
  {
   "cell_type": "code",
   "execution_count": 13,
   "metadata": {
    "collapsed": false
   },
   "outputs": [
    {
     "name": "stdout",
     "output_type": "stream",
     "text": [
      "Just show this one. # But I want to show a sharp here #\n"
     ]
    }
   ],
   "source": [
    "%%bash\n",
    "# If you want to show a sharp sign, ESCAPE it with backslash\n",
    "echo Just show this one. \\# But I want to show a sharp here \\#"
   ]
  },
  {
   "cell_type": "markdown",
   "metadata": {},
   "source": [
    "- <font color=blue> **[ date ]: showing the time and date.**</font>"
   ]
  },
  {
   "cell_type": "code",
   "execution_count": 3,
   "metadata": {
    "collapsed": false
   },
   "outputs": [
    {
     "name": "stdout",
     "output_type": "stream",
     "text": [
      "Wed Jul  2 15:18:32 CDT 2014\n"
     ]
    }
   ],
   "source": [
    "%%bash\n",
    "date"
   ]
  },
  {
   "cell_type": "code",
   "execution_count": 15,
   "metadata": {
    "collapsed": false
   },
   "outputs": [
    {
     "name": "stdout",
     "output_type": "stream",
     "text": [
      "2014-07-02 08:20:50\n"
     ]
    }
   ],
   "source": [
    "%%bash\n",
    "date \"+%Y-%m-%d %H:%M:%S\""
   ]
  },
  {
   "cell_type": "markdown",
   "metadata": {},
   "source": [
    "- <font color=blue> **[ ; ]: ends a statement, make multiple commands in one line.**</font>"
   ]
  },
  {
   "cell_type": "code",
   "execution_count": 4,
   "metadata": {
    "collapsed": false
   },
   "outputs": [
    {
     "name": "stdout",
     "output_type": "stream",
     "text": [
      "NOW IS 07/02/2014 15:19:28\n"
     ]
    }
   ],
   "source": [
    "%%bash\n",
    "echo -n \"NOW IS \"; date \"+%m/%d/%Y %H:%M:%S\""
   ]
  },
  {
   "cell_type": "code",
   "execution_count": 17,
   "metadata": {
    "collapsed": false
   },
   "outputs": [
    {
     "name": "stdout",
     "output_type": "stream",
     "text": [
      "NOW IS 07/02/2014 08:20:50\n"
     ]
    }
   ],
   "source": [
    "%%bash\n",
    "echo -n \"NOW IS \"\n",
    "date \"+%m/%d/%Y %H:%M:%S\""
   ]
  },
  {
   "cell_type": "markdown",
   "metadata": {},
   "source": [
    "- <font color=blue> **[ history ]: shows the command line history**</font>"
   ]
  },
  {
   "cell_type": "markdown",
   "metadata": {},
   "source": [
    "<pre>$ history | awk '{print $2}' | sort | uniq -c | sort -nr | head\n",
    " 213 ll\n",
    " 104 cd\n",
    "  90 ls\n",
    "  39 echo\n",
    "  37 vim\n",
    "  17 history\n",
    "  15 cat\n",
    "  14 meishan2\n",
    "  14 man\n",
    "  13 mkdir</pre>"
   ]
  },
  {
   "cell_type": "markdown",
   "metadata": {},
   "source": [
    "- <font color=blue> **[ !keyword ]: revokes the command from history**</font>\n",
    "<pre> $ history\n",
    "..................\n",
    "  742  less 0-Outline.ipynb \n",
    "  743  less 0-Outline.ipynb \n",
    "  744  man cat\n",
    "  745  more 0-Outline.ipynb \n",
    "  746  less 0-Outline.ipynb \n",
    "  747  man cat\n",
    "  748  cat 0-Outline.ipynb \n",
    "  749  cat -n 0-Outline.ipynb \n",
    "  750  man head\n",
    "  751  ll\n",
    "  752  head 0-Outline.ipynb \n",
    "  753  tail 0-Outline.ipynb \n",
    "  754  tail -20 0-Outline.ipynb \n",
    "  755  tail -n20 0-Outline.ipynb \n",
    "  756  ls\n",
    "  757  ll\n",
    "  758  nano char_one \n",
    "  759  ll\n",
    "  760  ll\n",
    "  \n",
    " $ !t (Enter)   # will execute   755  tail -n20 0-Outline.ipynb\n",
    "$ !l (Enter)   # will execute   760  ll\n",
    " $ !le (Enter)  # will execute   746  less 0-Outline.ipynb\n",
    "$ !744 (Enter) # will execute   744  man cat\n",
    "  </pre>"
   ]
  },
  {
   "cell_type": "markdown",
   "metadata": {},
   "source": [
    "### 3. Getting help\n",
    "    - man\n",
    "    - google"
   ]
  },
  {
   "cell_type": "markdown",
   "metadata": {
    "slideshow": {
     "slide_type": "notes"
    }
   },
   "source": [
    "### 4. Some useful keys\n",
    "    - up-arrow and down-arrow keys: rolling the command history\n",
    "    - tab key: auto-complete\n",
    "    - Ctrl+A and Ctrl+E: Home and End\n",
    "    - Ctrl+C: breaking current task"
   ]
  },
  {
   "cell_type": "markdown",
   "metadata": {},
   "source": [
    "### 5. Summary\n",
    "    - Terminal and Shell, bash\n",
    "    - echo, #, date, man, ;\n",
    "    - shortcuts make input efficient\n",
    "    - history and revoking history commands"
   ]
  },
  {
   "cell_type": "code",
   "execution_count": 17,
   "metadata": {
    "collapsed": false
   },
   "outputs": [],
   "source": []
  }
 ],
 "metadata": {
  "celltoolbar": "Slideshow",
  "kernelspec": {
   "display_name": "Python 3",
   "language": "python",
   "name": "python3"
  },
  "language_info": {
   "codemirror_mode": {
    "name": "ipython",
    "version": 3
   },
   "file_extension": ".py",
   "mimetype": "text/x-python",
   "name": "python",
   "nbconvert_exporter": "python",
   "pygments_lexer": "ipython3",
   "version": "3.5.2"
  }
 },
 "nbformat": 4,
 "nbformat_minor": 0
}
