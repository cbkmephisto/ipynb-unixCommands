{
 "cells": [
  {
   "cell_type": "markdown",
   "metadata": {},
   "source": [
    "# <center>Navigation</center>"
   ]
  },
  {
   "cell_type": "markdown",
   "metadata": {},
   "source": [
    "### <font color=blue>1. [ pwd ]: print working directory</font>"
   ]
  },
  {
   "cell_type": "code",
   "execution_count": 1,
   "metadata": {
    "collapsed": false
   },
   "outputs": [
    {
     "name": "stdout",
     "output_type": "stream",
     "text": [
      "/Users/cbkmephisto/Dropbox/passed/20140629-GSmeeting-Unix-commands\n"
     ]
    }
   ],
   "source": [
    "%%bash\n",
    "pwd"
   ]
  },
  {
   "cell_type": "markdown",
   "metadata": {},
   "source": [
    "### <font color=blue>2. [ cd ]: change directory</font>\n",
    "##### 2.1 cd, cd ~, and cd -"
   ]
  },
  {
   "cell_type": "code",
   "execution_count": 2,
   "metadata": {
    "collapsed": false
   },
   "outputs": [
    {
     "name": "stdout",
     "output_type": "stream",
     "text": [
      "==== current working directory:\n",
      "/Users/cbkmephisto/Dropbox/passed/20140629-GSmeeting-Unix-commands\n",
      "==== current working directory after executing cd without parameter\n",
      "/Users/cbkmephisto\n"
     ]
    }
   ],
   "source": [
    "%%bash\n",
    "# cd without parameter will change the working directory to your home directory\n",
    "# *nix /home/<your_login_username>\n",
    "#  mac /Users/<your_login_username>\n",
    "\n",
    "echo ==== current working directory:\n",
    "pwd\n",
    "\n",
    "cd\n",
    "echo ==== current working directory after executing cd without parameter\n",
    "pwd"
   ]
  },
  {
   "cell_type": "code",
   "execution_count": 3,
   "metadata": {
    "collapsed": false
   },
   "outputs": [
    {
     "name": "stdout",
     "output_type": "stream",
     "text": [
      "/Users/cbkmephisto/Dropbox/passed/20140629-GSmeeting-Unix-commands\n",
      "/Users/cbkmephisto\n"
     ]
    }
   ],
   "source": [
    "%%bash\n",
    "# \"cd ~\" changes the working directory to your home directory, too\n",
    "pwd; cd ~; pwd"
   ]
  },
  {
   "cell_type": "code",
   "execution_count": 4,
   "metadata": {
    "collapsed": false
   },
   "outputs": [
    {
     "name": "stdout",
     "output_type": "stream",
     "text": [
      "/Users/cbkmephisto/Dropbox/passed/20140629-GSmeeting-Unix-commands\n",
      "/Users/cbkmephisto\n",
      "/Users/cbkmephisto/Dropbox/passed/20140629-GSmeeting-Unix-commands\n"
     ]
    }
   ],
   "source": [
    "%%bash\n",
    "# \"cd -\" changes the working directory to the previous one\n",
    "pwd\n",
    "cd; pwd\n",
    "cd -"
   ]
  },
  {
   "cell_type": "markdown",
   "metadata": {},
   "source": [
    "##### 2.2 Absolute path and relative path\n",
    "<pre>\".\" or \"./\"    current working directory\n",
    "\"..\" or \"../\"  relative upper level directory.</pre>"
   ]
  },
  {
   "cell_type": "code",
   "execution_count": 5,
   "metadata": {
    "collapsed": false
   },
   "outputs": [
    {
     "name": "stdout",
     "output_type": "stream",
     "text": [
      "/Users/cbkmephisto/Dropbox/passed\n"
     ]
    }
   ],
   "source": [
    "%%bash\n",
    "# instead of \"cd /Users/cbkmephisto/Dropbox/passed/\"\n",
    "cd ..\n",
    "pwd"
   ]
  },
  {
   "cell_type": "markdown",
   "metadata": {},
   "source": [
    "### <font color=blue>3. [ ls ]: list files and directories</font>"
   ]
  },
  {
   "cell_type": "code",
   "execution_count": 6,
   "metadata": {
    "collapsed": false
   },
   "outputs": [
    {
     "name": "stdout",
     "output_type": "stream",
     "text": [
      "======== ls current directory\n",
      "0-Outline.ipynb\n",
      "1-Terminal_and_Shell.ipynb\n",
      "2-Navigation.ipynb\n",
      "3-Looking_around.ipynb\n",
      "4-Manipulating_files.ipynb\n",
      "5-Making_extractions.ipynb\n",
      "6-Spliting_and_merging.ipynb\n",
      "7-Remote_job_techs.ipynb\n",
      "EMPTY_DIR\n",
      "char_one\n",
      "char_two\n",
      "keyboard.svg.png\n",
      "======== ls home directory\n",
      "061413_PP_EmergingTech_Garrick.pptx.pdf\n",
      "20140617asrOutput.rerun.50k.CHA.tgz\n",
      "442\n",
      "4b_z7xx_1145-dorian-garrick-worldangus.pdf\n",
      "Applications\n",
      "Books\n",
      "Desktop\n",
      "Documents\n",
      "Downloads\n",
      "Dropbox\n",
      "Google Drive\n",
      "Library\n",
      "Movies\n",
      "Music\n",
      "PM.png\n",
      "Pictures\n",
      "PlayOnMac's virtual drives\n",
      "Projects\n",
      "Public\n",
      "asrOutput.50k.HER.noPA.tgz\n",
      "asrOutput.GGPHD.HER.noPA.tgz\n",
      "asrOutput.HD.CHA.noPA.tgz\n",
      "bin\n",
      "include\n",
      "mailingAttachments\n",
      "mp\n",
      "sc.exe\n",
      "test\n"
     ]
    }
   ],
   "source": [
    "%%bash\n",
    "echo ======== ls current directory\n",
    "ls\n",
    "\n",
    "cd\n",
    "echo ======== ls home directory\n",
    "ls"
   ]
  },
  {
   "cell_type": "code",
   "execution_count": 1,
   "metadata": {
    "collapsed": false
   },
   "outputs": [
    {
     "name": "stdout",
     "output_type": "stream",
     "text": [
      "total 608\n",
      "-rw-r--r--  1 cbkmephisto  staff    2773 Jul  5 16:04 0-Outline.ipynb\n",
      "-rw-r--r--  1 cbkmephisto  staff   10150 Jul  5 16:02 1-Terminal_and_Shell.ipynb\n",
      "-rw-r--r--  1 cbkmephisto  staff  104153 Jul  2 16:20 2-Navigation.ipynb\n",
      "-rw-r--r--  1 cbkmephisto  staff   19846 Jul  2 16:00 3-Looking_around.ipynb\n",
      "-rw-r--r--  1 cbkmephisto  staff    1307 Jul  2 10:48 4-Manipulating_files.ipynb\n",
      "-rw-r--r--  1 cbkmephisto  staff    1307 Jul  2 10:48 5-Making_extractions.ipynb\n",
      "-rw-r--r--  1 cbkmephisto  staff    1307 Jul  2 10:48 6-Spliting_and_merging.ipynb\n",
      "-rw-r--r--  1 cbkmephisto  staff    1307 Jul  2 10:48 7-Remote_job_techs.ipynb\n",
      "drwxr-xr-x  3 cbkmephisto  staff     102 Jul  2 15:48 EMPTY_DIR\n",
      "-rw-r--r--  1 cbkmephisto  staff       2 Jul  2 09:41 char_one\n",
      "-rw-r--r--  1 cbkmephisto  staff       3 Jul  2 09:41 char_two\n",
      "-rw-r--r--@ 1 cbkmephisto  staff   59092 Jul  2 14:30 file_permissions.png\n",
      "-rw-r--r--@ 1 cbkmephisto  staff   79729 Jul  2 10:42 keyboard.svg.png\n"
     ]
    }
   ],
   "source": [
    "%%bash\n",
    "# get the file list with more details\n",
    "ls -l"
   ]
  },
  {
   "cell_type": "markdown",
   "metadata": {},
   "source": [
    "---------- --- -------  -------  ----- ------------ ----------------------------\n",
    "    |       |     |        |       |           |             |\n",
    "    |       |     |        |       |           |         File Name\n",
    "    |       |     |        |       |           |\n",
    "    |       |     |        |       |           +---  Modification Time\n",
    "    |       |     |        |       |  \n",
    "    |       |     |        |       +---------------   Size (in bytes)\n",
    "    |       |     |        |\n",
    "    |       |     |        +-----------------------        Group\n",
    "    |       |     |\n",
    "    |       |     +--------------------------------        Owner\n",
    "    |       |\n",
    "    |       +--------------------------------------   Number of files\n",
    "    |\n",
    "    +----------------------------------------------   File Permissions"
   ]
  },
  {
   "cell_type": "code",
   "execution_count": 1,
   "metadata": {
    "collapsed": false
   },
   "outputs": [
    {
     "data": {
      "image/png": "[encoded data removed]",
      "text/plain": [
       "<IPython.core.display.Image object>"
      ]
     },
     "execution_count": 1,
     "metadata": {},
     "output_type": "execute_result"
    }
   ],
   "source": [
    "from IPython.display import Image\n",
    "Image(filename='file_permissions.png')"
   ]
  },
  {
   "cell_type": "markdown",
   "metadata": {},
   "source": [
    "<pre>file/dir    p_self  p_group    p_other    num\n",
    "-           rw-     r--        r--        644\n",
    "d           rwx     r-x        r-x        755\n",
    "\n",
    "-------------\n",
    "(r)ead       4\n",
    "(w)rite      2\n",
    "e(x)ecute    1\n",
    "\n",
    "* directories must have x permission to be functional, or a \"Permission denied\" error would occur while using cd/ls.</pre>"
   ]
  },
  {
   "cell_type": "code",
   "execution_count": 8,
   "metadata": {
    "collapsed": false
   },
   "outputs": [
    {
     "name": "stdout",
     "output_type": "stream",
     "text": [
      ".\n",
      "..\n",
      ".ipynb_checkpoints\n",
      "0-Outline.ipynb\n",
      "1-Terminal_and_Shell.ipynb\n",
      "2-Navigation.ipynb\n",
      "3-Looking_around.ipynb\n",
      "4-Manipulating_files.ipynb\n",
      "5-Making_extractions.ipynb\n",
      "6-Spliting_and_merging.ipynb\n",
      "7-Remote_job_techs.ipynb\n",
      "EMPTY_DIR\n",
      "char_one\n",
      "char_two\n",
      "keyboard.svg.png\n"
     ]
    }
   ],
   "source": [
    "%%bash\n",
    "# files/directories starts with dot '.' will not show by default. Use \"ls -a\" to see them.\n",
    "ls -a"
   ]
  },
  {
   "cell_type": "code",
   "execution_count": 9,
   "metadata": {
    "collapsed": false
   },
   "outputs": [
    {
     "name": "stdout",
     "output_type": "stream",
     "text": [
      "total 312\r\n",
      "drwxr-xr-x  15 cbkmephisto  staff    510 Jul  2 10:43 \u001b[1m\u001b[33m.\u001b[m\u001b[m/\r\n",
      "drwxr-xr-x@ 17 cbkmephisto  staff    578 Jun 29 10:52 \u001b[1m\u001b[33m..\u001b[m\u001b[m/\r\n",
      "drwxr-xr-x   9 cbkmephisto  staff    306 Jul  2 10:35 \u001b[1m\u001b[33m.ipynb_checkpoints\u001b[m\u001b[m/\r\n",
      "-rw-r--r--   1 cbkmephisto  staff   2659 Jul  2 10:34 0-Outline.ipynb\r\n",
      "-rw-r--r--   1 cbkmephisto  staff   9404 Jul  2 10:34 1-Terminal_and_Shell.ipynb\r\n",
      "-rw-r--r--   1 cbkmephisto  staff  15508 Jul  2 10:34 2-Navigation.ipynb\r\n",
      "-rw-r--r--   1 cbkmephisto  staff  19753 Jul  2 10:34 3-Looking_around.ipynb\r\n",
      "-rw-r--r--   1 cbkmephisto  staff    871 Jul  2 10:37 4-Manipulating_files.ipynb\r\n",
      "-rw-r--r--   1 cbkmephisto  staff    871 Jul  2 10:38 5-Making_extractions.ipynb\r\n",
      "-rw-r--r--   1 cbkmephisto  staff    871 Jul  2 10:38 6-Spliting_and_merging.ipynb\r\n",
      "-rw-r--r--   1 cbkmephisto  staff    871 Jul  2 10:38 7-Remote_job_techs.ipynb\r\n",
      "drwxr-xr-x   2 cbkmephisto  staff     68 Jul  2 09:37 \u001b[1m\u001b[33mEMPTY_DIR\u001b[m\u001b[m/\r\n",
      "-rw-r--r--   1 cbkmephisto  staff      2 Jul  2 09:41 char_one\r\n",
      "-rw-r--r--   1 cbkmephisto  staff      3 Jul  2 09:41 char_two\r\n",
      "-rw-r--r--@  1 cbkmephisto  staff  79729 Jul  2 10:42 keyboard.svg.png\r\n"
     ]
    }
   ],
   "source": [
    "ls -la"
   ]
  },
  {
   "cell_type": "code",
   "execution_count": 2,
   "metadata": {
    "collapsed": false
   },
   "outputs": [
    {
     "name": "stdout",
     "output_type": "stream",
     "text": [
      "total 608\n",
      "drwxr-xr-x  16 cbkmephisto  staff   544B Jul  2 14:30 .\n",
      "drwxr-xr-x@ 17 cbkmephisto  staff   578B Jun 29 10:52 ..\n",
      "drwxr-xr-x   9 cbkmephisto  staff   306B Jul  2 10:35 .ipynb_checkpoints\n",
      "-rw-r--r--   1 cbkmephisto  staff   2.7K Jul  5 16:04 0-Outline.ipynb\n",
      "-rw-r--r--   1 cbkmephisto  staff   9.9K Jul  5 16:02 1-Terminal_and_Shell.ipynb\n",
      "-rw-r--r--   1 cbkmephisto  staff   102K Jul  5 16:05 2-Navigation.ipynb\n",
      "-rw-r--r--   1 cbkmephisto  staff    19K Jul  2 16:00 3-Looking_around.ipynb\n",
      "-rw-r--r--   1 cbkmephisto  staff   1.3K Jul  2 10:48 4-Manipulating_files.ipynb\n",
      "-rw-r--r--   1 cbkmephisto  staff   1.3K Jul  2 10:48 5-Making_extractions.ipynb\n",
      "-rw-r--r--   1 cbkmephisto  staff   1.3K Jul  2 10:48 6-Spliting_and_merging.ipynb\n",
      "-rw-r--r--   1 cbkmephisto  staff   1.3K Jul  2 10:48 7-Remote_job_techs.ipynb\n",
      "drwxr-xr-x   3 cbkmephisto  staff   102B Jul  2 15:48 EMPTY_DIR\n",
      "-rw-r--r--   1 cbkmephisto  staff     2B Jul  2 09:41 char_one\n",
      "-rw-r--r--   1 cbkmephisto  staff     3B Jul  2 09:41 char_two\n",
      "-rw-r--r--@  1 cbkmephisto  staff    58K Jul  2 14:30 file_permissions.png\n",
      "-rw-r--r--@  1 cbkmephisto  staff    78K Jul  2 10:42 keyboard.svg.png\n"
     ]
    }
   ],
   "source": [
    "%%bash\n",
    "# -h convert the size of file to a human-readable format\n",
    "ls -lha"
   ]
  },
  {
   "cell_type": "code",
   "execution_count": 11,
   "metadata": {
    "collapsed": false
   },
   "outputs": [
    {
     "name": "stdout",
     "output_type": "stream",
     "text": [
      "total 312\r\n",
      "-rw-r--r--@ 1 cbkmephisto  staff    78K Jul  2 10:42 keyboard.svg.png\r\n",
      "-rw-r--r--  1 cbkmephisto  staff    19K Jul  2 10:34 3-Looking_around.ipynb\r\n",
      "-rw-r--r--  1 cbkmephisto  staff    15K Jul  2 10:34 2-Navigation.ipynb\r\n",
      "-rw-r--r--  1 cbkmephisto  staff   9.2K Jul  2 10:34 1-Terminal_and_Shell.ipynb\r\n",
      "-rw-r--r--  1 cbkmephisto  staff   2.6K Jul  2 10:34 0-Outline.ipynb\r\n",
      "-rw-r--r--  1 cbkmephisto  staff   871B Jul  2 10:37 4-Manipulating_files.ipynb\r\n",
      "-rw-r--r--  1 cbkmephisto  staff   871B Jul  2 10:38 5-Making_extractions.ipynb\r\n",
      "-rw-r--r--  1 cbkmephisto  staff   871B Jul  2 10:38 6-Spliting_and_merging.ipynb\r\n",
      "-rw-r--r--  1 cbkmephisto  staff   871B Jul  2 10:38 7-Remote_job_techs.ipynb\r\n",
      "drwxr-xr-x  2 cbkmephisto  staff    68B Jul  2 09:37 \u001b[1m\u001b[33mEMPTY_DIR\u001b[m\u001b[m/\r\n",
      "-rw-r--r--  1 cbkmephisto  staff     3B Jul  2 09:41 char_two\r\n",
      "-rw-r--r--  1 cbkmephisto  staff     2B Jul  2 09:41 char_one\r\n"
     ]
    }
   ],
   "source": [
    "%%bash\n",
    "# -S sort by file size\n",
    "ls -lh -S"
   ]
  },
  {
   "cell_type": "code",
   "execution_count": 3,
   "metadata": {
    "collapsed": false
   },
   "outputs": [
    {
     "name": "stdout",
     "output_type": "stream",
     "text": [
      "total 608\n",
      "-rw-r--r--  1 cbkmephisto  staff       2 Jul  2 09:41 char_one\n",
      "-rw-r--r--  1 cbkmephisto  staff       3 Jul  2 09:41 char_two\n",
      "-rw-r--r--@ 1 cbkmephisto  staff   79729 Jul  2 10:42 keyboard.svg.png\n",
      "-rw-r--r--  1 cbkmephisto  staff    1307 Jul  2 10:48 4-Manipulating_files.ipynb\n",
      "-rw-r--r--  1 cbkmephisto  staff    1307 Jul  2 10:48 5-Making_extractions.ipynb\n",
      "-rw-r--r--  1 cbkmephisto  staff    1307 Jul  2 10:48 6-Spliting_and_merging.ipynb\n",
      "-rw-r--r--  1 cbkmephisto  staff    1307 Jul  2 10:48 7-Remote_job_techs.ipynb\n",
      "-rw-r--r--@ 1 cbkmephisto  staff   59092 Jul  2 14:30 file_permissions.png\n",
      "drwxr-xr-x  3 cbkmephisto  staff     102 Jul  2 15:48 EMPTY_DIR\n",
      "-rw-r--r--  1 cbkmephisto  staff   19846 Jul  2 16:00 3-Looking_around.ipynb\n",
      "-rw-r--r--  1 cbkmephisto  staff   10150 Jul  5 16:02 1-Terminal_and_Shell.ipynb\n",
      "-rw-r--r--  1 cbkmephisto  staff    2773 Jul  5 16:04 0-Outline.ipynb\n",
      "-rw-r--r--  1 cbkmephisto  staff  104351 Jul  5 16:07 2-Navigation.ipynb\n"
     ]
    }
   ],
   "source": [
    "%%bash\n",
    "# -t sort by last modify time\n",
    "# -r show the sorting resuts reversely\n",
    "ls -l -r -t # ls -lrt"
   ]
  },
  {
   "cell_type": "markdown",
   "metadata": {},
   "source": [
    "### 4. Wildcards\n",
    "<center>Summary of wildcards and their meanings</center>\n",
    "\n",
    "| Wildcard\t| Meaning|\n",
    "|--------|--------|\n",
    "|\\*|  Matches any characters|\n",
    "|?| Matches any single character|\n",
    "|[characters]| Matches any character that is a member of the set characters.|\n",
    "|[!characters]|Matches any character that is not a member of the set characters|\n",
    "\n",
    "The set of characters may also be expressed as a POSIX character class such as one of the listing below\n",
    "<pre>POSIX Character Classes\n",
    "[:alnum:]\tAlphanumeric characters\n",
    "[:alpha:]\tAlphabetic characters\n",
    "[:digit:]\tNumerals\n",
    "[:upper:]\tUppercase alphabetic characters\n",
    "[:lower:]\tLowercase alphabetic characters</pre>"
   ]
  },
  {
   "cell_type": "markdown",
   "metadata": {},
   "source": [
    "|Pattern\t| Matches | Example |\n",
    "|-------|---------|------|\n",
    "|\\* | All filenames | -|\n",
    "|g\\* |All filenames that begin with the character \"g\" | g, ga, gbxbs, g29328.txt|\n",
    "|b\\*.txt | All filenames that begin with the character \"b\" and end with the characters \".txt\"| b.txt, birth.txt |\n",
    "| Data???| Any filename that begins with the characters \"Data\" followed by exactly 3 more characters | Data001, Dataset, DataSet |\n",
    "|[abc]\\* | Any filename that begins with \"a\" or \"b\" or \"c\" followed by any other characters | abc, abcdefg, abc.sh |\n",
    "|[[:upper:]]\\* |  Any filename that begins with an uppercase letter. This is an example of a character class. | Desktop, Public |\n",
    "|BACKUP.[[:digit:]][[:digit:]]| Another example of character classes. This pattern matches any filename that begins with the characters \"BACKUP.\" followed by exactly two numerals. | BACKUP.01 BACKUP.99 |\n",
    "|\\*[![:lower:]] | Any filename that does not end with a lowercase letter.| DIR, Data001 |"
   ]
  },
  {
   "cell_type": "code",
   "execution_count": 4,
   "metadata": {
    "collapsed": false,
    "scrolled": false
   },
   "outputs": [
    {
     "name": "stdout",
     "output_type": "stream",
     "text": [
      "/Users/cbkmephisto/Desktop:\n",
      "34160_ggplot2._Elegant_Graphics_for_Data_Analysis.PDF\n",
      "ALMAB.pdf\n",
      "All of statistics.pdf\n",
      "Auto\n",
      "C360_2014-06-05-09-40-34-017.jpg\n",
      "Desktop.o\n",
      "GT\n",
      "IA_T\n",
      "LD_plot.R\n",
      "LINEAR_MODELS_FOR_THE_PREDICTION_OF_ANIMAL BREEDING VALUES.pdf\n",
      "MCMC\n",
      "Manuals\n",
      "PLAG1_haps.ods\n",
      "PlantBreedingAcademy.pdf\n",
      "The.C.Plus.Plus.Standard.Library.A.Tutorial.and.Reference,.Nicolai.M..Josuttis,.2ed,.AW,.2012.pdf\n",
      "Think_Series\n",
      "cls\n",
      "convert.html\n",
      "cpbook\n",
      "fn\n",
      "imputation_pipeline.png\n",
      "imputation_pipeline.xcf\n",
      "note-2013-10-06.org\n",
      "others\n",
      "paper_about_GS_evaluation\n",
      "paper_about_haplotype_diversity\n",
      "paper_about_haplotype_matrix\n",
      "paper_about_long_range_phasing\n",
      "paper_about_underrepresented\n",
      "positions.xlsx\n",
      "shortCourse2014\n",
      "~lrs\n",
      "\n",
      "/Users/cbkmephisto/Documents:\n",
      "Microsoft User Data\n",
      "My Notes.enex\n",
      "RDC Connections\n",
      "Xcorkspace\n",
      "Youku\n",
      "documentations\n",
      "h_large_vn5X_20970003d6ee2f75.jpg\n",
      "head.png\n",
      "head.xcf\n",
      "software\n",
      "vienna.opml\n",
      "workspace\n",
      "xxxxx.png\n",
      "\n",
      "/Users/cbkmephisto/Downloads:\n",
      "1000BullGenomesAnimalListDistRun4.xlsx\n",
      "1000BullGenomesDownloadInfo-20140501.docx\n",
      "1000BullGenomesDownloadInfo-20140506.docx\n",
      "AA.ZIP\n",
      "About Downloads.lpdf\n",
      "AnalysisA.f95\n",
      "Axiom_GW_Bos_SNP_1.na34.annot.csv.zip\n",
      "BamView.v1.2.11.dmg.zip\n",
      "BovineHapMapSNP50_UMD3.1.gff3\n",
      "BovineHapMapSNP50_UMD3.1.gff3.gz\n",
      "CHA-DATA FILES 03.11.2014.docx\n",
      "CHA20140609\n",
      "CHA_AICA12032013\n",
      "CHA_AICA12032013.zip\n",
      "CHA_aicapedexp20131201.zip\n",
      "Clustering.tar.gz\n",
      "DEBV1\n",
      "DEBV1.tar.gz\n",
      "FImpute22_140221_140821_Dorian_Garrick\n",
      "FImpute22_140221_140821_Dorian_Garrick.zip\n",
      "FImpute_output_50k_SuperLD_ISU_ZIP\n",
      "GSrun4.55R.iPlant.tgz\n",
      "GVH_impute.zip\n",
      "HER_URY_allebvID_04162014.txt\n",
      "HER_phe_AA_zip\n",
      "ISU.zip\n",
      "Instructions\n",
      "NALF EPD and Data Extract with Interbull IDs 04152014\n",
      "NALF EPD and Data Extract with Interbull IDs 04152014.zip\n",
      "PCA.r\n",
      "PPTS\n",
      "QTL_networks_BMC.pdf\n",
      "URY_EBVS_CrossRefID_030614\n",
      "URY_EBVS_CrossRefID_030614.zip\n",
      "URY_data_170414\n",
      "URY_data_180414\n",
      "UruguayanHerfordData.new\n",
      "UruguayanHerfordData.zip\n",
      "affy_ilmnhd_markers.csv\n",
      "affy_ilmnhd_markers.csv.gz\n",
      "b4.r1230.jar\n",
      "cook\n",
      "dorian_profile_03012014-1.xls\n",
      "duplicates\n",
      "duplicates.zip\n",
      "epds_from_simm_03012014.csv\n",
      "epds_from_simm_03012014.p.csv\n",
      "epds_from_simm_03012014.xls\n",
      "geneseekBovine7k.csv\n",
      "ident differences.TXT\n",
      "maps\n",
      "maps.zip\n",
      "tts.doc\n",
      "\n",
      "/Users/cbkmephisto/Dropbox:\n",
      "IMAG0001.jpg\n",
      "Icon\r\n",
      "Photos\n",
      "Public\n",
      "TB\n",
      "Tax\n",
      "Xcorkspace\n",
      "address.odt\n",
      "address.pdf\n",
      "iastate\n",
      "iastate.org\n",
      "passed\n",
      "pcsc_pcsc_00001.vcf\n",
      "-----------------------------\n",
      "/Users/cbkmephisto/Desktop\n",
      "/Users/cbkmephisto/Documents\n",
      "/Users/cbkmephisto/Downloads\n",
      "/Users/cbkmephisto/Dropbox\n"
     ]
    }
   ],
   "source": [
    "%%bash\n",
    "ls ~/D*\n",
    "echo -----------------------------\n",
    "ls -d ~/D*"
   ]
  },
  {
   "cell_type": "markdown",
   "metadata": {},
   "source": [
    "### 5. Summary\n",
    "    - pwd\n",
    "    - cd\n",
    "    - ls\n",
    "    - file permissions\n",
    "    - hidden files\n",
    "    - wildcards"
   ]
  }
 ],
 "metadata": {
  "kernelspec": {
   "display_name": "Python 3",
   "language": "python",
   "name": "python3"
  },
  "language_info": {
   "codemirror_mode": {
    "name": "ipython",
    "version": 3
   },
   "file_extension": ".py",
   "mimetype": "text/x-python",
   "name": "python",
   "nbconvert_exporter": "python",
   "pygments_lexer": "ipython3",
   "version": "3.5.2"
  }
 },
 "nbformat": 4,
 "nbformat_minor": 0
}
